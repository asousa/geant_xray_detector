{
 "cells": [
  {
   "cell_type": "code",
   "execution_count": 113,
   "metadata": {},
   "outputs": [],
   "source": [
    "import xml.etree.cElementTree\n",
    "import numpy as np\n",
    "import scipy as sp\n",
    "import matplotlib.pyplot as plt\n",
    "%matplotlib inline\n"
   ]
  },
  {
   "cell_type": "code",
   "execution_count": 201,
   "metadata": {},
   "outputs": [
    {
     "name": "stdout",
     "output_type": "stream",
     "text": [
      "Energy, in detector /keV  has 29046.0 values\n",
      "Energy, from source /keV  has 0.0 values\n",
      "Energy, in detector /keV\n",
      "[1.792e+03 1.393e+03 1.019e+03 7.320e+02 5.710e+02 4.470e+02 4.020e+02\n",
      " 3.890e+02 3.560e+02 3.070e+02 2.800e+02 2.840e+02 2.620e+02 2.750e+02\n",
      " 2.470e+02 2.390e+02 2.330e+02 2.190e+02 2.190e+02 2.000e+02 2.040e+02\n",
      " 2.240e+02 1.990e+02 2.290e+02 2.140e+02 2.170e+02 2.270e+02 1.870e+02\n",
      " 2.280e+02 2.140e+02 2.420e+02 2.040e+02 2.100e+02 2.340e+02 2.700e+02\n",
      " 2.170e+02 2.500e+02 2.500e+02 2.330e+02 2.600e+02 2.400e+02 2.370e+02\n",
      " 2.260e+02 2.480e+02 2.480e+02 2.830e+02 2.950e+02 2.750e+02 2.740e+02\n",
      " 2.790e+02 3.190e+02 3.200e+02 3.240e+02 3.280e+02 3.360e+02 3.350e+02\n",
      " 3.410e+02 3.520e+02 3.510e+02 3.970e+02 3.840e+02 4.070e+02 4.200e+02\n",
      " 3.810e+02 4.460e+02 4.630e+02 4.580e+02 4.350e+02 5.360e+02 5.190e+02\n",
      " 5.360e+02 5.390e+02 4.980e+02 5.350e+02 4.810e+02 4.350e+02 4.400e+02\n",
      " 3.220e+02 2.200e+02 1.290e+02 5.500e+01 8.000e+00 4.000e+00 1.000e+00\n",
      " 2.000e+00 0.000e+00 2.000e+00 1.000e+00 1.000e+00 1.000e+00 0.000e+00\n",
      " 0.000e+00 0.000e+00 0.000e+00 0.000e+00 0.000e+00 0.000e+00 0.000e+00\n",
      " 0.000e+00 0.000e+00]\n"
     ]
    },
    {
     "data": {
      "image/png": "[encoded data removed]",
      "text/plain": [
       "<matplotlib.figure.Figure at 0x11f813990>"
      ]
     },
     "metadata": {},
     "output_type": "display_data"
    }
   ],
   "source": [
    "# Get histograms from XML output\n",
    "\n",
    "filename = 'build/detector_hists.xml'\n",
    "e = xml.etree.cElementTree.parse(filename).getroot()\n",
    "\n",
    "hists = dict()\n",
    "axes  = dict()\n",
    "underflows = dict()\n",
    "overflows = dict()\n",
    "for hist in e.findall('histogram1d'):\n",
    "    axis_info = hist.findall('axis')[0].attrib\n",
    "    bin_vals = np.linspace(float(axis_info['min']), float(axis_info['max']), int(axis_info['numberOfBins']))\n",
    "    title = hist.attrib['title']\n",
    "    \n",
    "    cur_hist = np.zeros_like(bin_vals)\n",
    "    for cell in hist.findall('data1d')[0]:\n",
    "        try:\n",
    "            binN=int(cell.attrib['binNum'])\n",
    "            binH=int(cell.attrib['height'])\n",
    "            cur_hist[binN] = binH\n",
    "        except:\n",
    "            if 'UNDERFLOW' in cell.attrib['binNum']:\n",
    "                underflows[title] = int(cell.attrib['height'])\n",
    "            if 'OVERFLOW' in cell.attrib['binNum']:\n",
    "                overflows[title] = int(cell.attrib['height'])\n",
    "    hists[title] = cur_hist\n",
    "    axes[title]  = bin_vals\n",
    "\n",
    "    print title, \" has\", np.sum(cur_hist), \"values\"\n",
    "\n",
    "    \n",
    "# ---------- Plot it -------------\n",
    "\n",
    "key = hists.keys()[0]\n",
    "print key\n",
    "print hists[key]\n",
    "fig, ax = plt.subplots(len(hists.keys()),1, sharex=True)\n",
    "\n",
    "for k_ind, key in enumerate(hists.keys()):\n",
    "\n",
    "    ax[k_ind].bar(axes[key], hists[key], width=200, zorder=100, alpha=0.7)\n",
    "    ax[k_ind].set_title(key)\n",
    "    ax[k_ind].set_ylabel('counts')\n",
    "    ax[k_ind].grid('on', zorder=0)\n",
    "    \n",
    "    if key in underflows.keys():\n",
    "        ax[k_ind].bar(axes[key][0] - (axes[key][1]-axes[key][0]), underflows[key], color='r', width=200)\n",
    "    if key in overflows.keys():\n",
    "        ax[k_ind].bar(axes[key][-1] + (axes[key][1]-axes[key][0]), overflows[key], color='r', width=200)\n",
    "#     ax[k_ind].set_xscale('log')\n",
    "#     ax[k_ind].set_yscale('log')\n",
    "\n",
    "ax[0].set_ylim([0, 1000])\n",
    "ax[-1].set_xlabel('Energy (keV)')\n",
    "fig.tight_layout()\n",
    "\n",
    "fig.savefig('10MeV_incident_energy.png')"
   ]
  },
  {
   "cell_type": "code",
   "execution_count": 132,
   "metadata": {},
   "outputs": [
    {
     "name": "stdout",
     "output_type": "stream",
     "text": [
      "implementation {'version': '4.2.1', 'package': 'tools'}\n",
      "histogram1d {'path': '/', 'name': 'h1', 'title': 'Energy, in detector /keV'}\n",
      "histogram1d {'path': '/', 'name': 'h2', 'title': 'Energy, from source /keV'}\n"
     ]
    }
   ],
   "source": [
    "for child in e:\n",
    "    print child.tag, child.attrib"
   ]
  },
  {
   "cell_type": "code",
   "execution_count": 59,
   "metadata": {},
   "outputs": [
    {
     "name": "stdout",
     "output_type": "stream",
     "text": [
      "#class tools::histo::h1d\n",
      "\n",
      "#title Energy, in detector /keV\n",
      "\n",
      "#dimension 1\n",
      "\n",
      "#axis fixed 100 1 10000\n",
      "\n",
      "#annotation axis_x.title \n",
      "\n",
      "#bin_number 102\n",
      "\n",
      "entries,Sw,Sw2,Sxw0,Sx2w0\n",
      "\n",
      "0,0,0,0,0\n",
      "\n",
      "0,0,0,0,0\n",
      "\n",
      "0,0,0,0,0\n",
      "\n"
     ]
    }
   ],
   "source": [
    "# Load CSV files:\n",
    "\n",
    "infile = \"build/detector_hists_h1_h1.csv\"\n",
    "\n",
    "# np.loadtxt(infile, delimiter=',', skiprows=7)\n",
    "\n",
    "with open(infile,'r') as file:\n",
    "    for a in range(10):\n",
    "        x =file.readline()\n",
    "        print x"
   ]
  },
  {
   "cell_type": "code",
   "execution_count": 63,
   "metadata": {},
   "outputs": [],
   "source": []
  },
  {
   "cell_type": "code",
   "execution_count": null,
   "metadata": {},
   "outputs": [],
   "source": []
  }
 ],
 "metadata": {
  "kernelspec": {
   "display_name": "Python 2",
   "language": "python",
   "name": "python2"
  },
  "language_info": {
   "codemirror_mode": {
    "name": "ipython",
    "version": 2
   },
   "file_extension": ".py",
   "mimetype": "text/x-python",
   "name": "python",
   "nbconvert_exporter": "python",
   "pygments_lexer": "ipython2",
   "version": "2.7.14"
  }
 },
 "nbformat": 4,
 "nbformat_minor": 2
}
